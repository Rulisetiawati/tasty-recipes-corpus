{
 "cells": [
  {
   "cell_type": "code",
   "execution_count": 98,
   "metadata": {},
   "outputs": [],
   "source": [
    "import pandas as pd\n",
    "import numpy as np\n",
    "import nltk\n",
    "from nltk.metrics.agreement import AnnotationTask\n",
    "from collections import defaultdict, Counter"
   ]
  },
  {
   "cell_type": "markdown",
   "metadata": {},
   "source": [
    "### First, import the .CSV file and keep the columns required, save the dataframe to `filtered_res`"
   ]
  },
  {
   "cell_type": "code",
   "execution_count": 60,
   "metadata": {},
   "outputs": [
    {
     "data": {
      "text/html": [
       "<div>\n",
       "<style scoped>\n",
       "    .dataframe tbody tr th:only-of-type {\n",
       "        vertical-align: middle;\n",
       "    }\n",
       "\n",
       "    .dataframe tbody tr th {\n",
       "        vertical-align: top;\n",
       "    }\n",
       "\n",
       "    .dataframe thead th {\n",
       "        text-align: right;\n",
       "    }\n",
       "</style>\n",
       "<table border=\"1\" class=\"dataframe\">\n",
       "  <thead>\n",
       "    <tr style=\"text-align: right;\">\n",
       "      <th></th>\n",
       "      <th>Input.ingredients</th>\n",
       "      <th>Input.preparation</th>\n",
       "      <th>Input.description</th>\n",
       "      <th>Input.current_url</th>\n",
       "      <th>Input.document_url</th>\n",
       "      <th>WorkerId</th>\n",
       "      <th>WorkTimeInSeconds</th>\n",
       "      <th>Answer.category.label</th>\n",
       "    </tr>\n",
       "  </thead>\n",
       "  <tbody>\n",
       "    <tr>\n",
       "      <th>0</th>\n",
       "      <td>3 bananas 1 vanilla pod, or 1 teaspoon vanilla...</td>\n",
       "      <td>Cut the bananas into slices and place into a f...</td>\n",
       "      <td>Here's what you need: bananas, vanilla pod, fu...</td>\n",
       "      <td>https://tasty.co/recipe/banana-ice-cream-choco...</td>\n",
       "      <td>Banana Ice Cream Chocolate Bites</td>\n",
       "      <td>AJ9O2ZA0E8UDZ</td>\n",
       "      <td>7</td>\n",
       "      <td>Dessert</td>\n",
       "    </tr>\n",
       "    <tr>\n",
       "      <th>1</th>\n",
       "      <td>3 bananas 1 vanilla pod, or 1 teaspoon vanilla...</td>\n",
       "      <td>Cut the bananas into slices and place into a f...</td>\n",
       "      <td>Here's what you need: bananas, vanilla pod, fu...</td>\n",
       "      <td>https://tasty.co/recipe/banana-ice-cream-choco...</td>\n",
       "      <td>Banana Ice Cream Chocolate Bites</td>\n",
       "      <td>A3FOC1PCYZ0VT1</td>\n",
       "      <td>6</td>\n",
       "      <td>Dessert</td>\n",
       "    </tr>\n",
       "    <tr>\n",
       "      <th>2</th>\n",
       "      <td>3 bananas 1 vanilla pod, or 1 teaspoon vanilla...</td>\n",
       "      <td>Cut the bananas into slices and place into a f...</td>\n",
       "      <td>Here's what you need: bananas, vanilla pod, fu...</td>\n",
       "      <td>https://tasty.co/recipe/banana-ice-cream-choco...</td>\n",
       "      <td>Banana Ice Cream Chocolate Bites</td>\n",
       "      <td>ATUCZB2W7VVI7</td>\n",
       "      <td>7</td>\n",
       "      <td>Dessert</td>\n",
       "    </tr>\n",
       "    <tr>\n",
       "      <th>3</th>\n",
       "      <td>nonstick cooking spray, for greasing 1 can ref...</td>\n",
       "      <td>Preheat the oven to 425F (220C). Grease a baki...</td>\n",
       "      <td>Here's what you need: nonstick cooking spray, ...</td>\n",
       "      <td>https://tasty.co/recipe/spicy-chicken-bacon-fl...</td>\n",
       "      <td>Spicy Chicken Bacon Flatbread</td>\n",
       "      <td>ALS4ARR5D4BEC</td>\n",
       "      <td>15</td>\n",
       "      <td>Appetizer or side dish</td>\n",
       "    </tr>\n",
       "    <tr>\n",
       "      <th>4</th>\n",
       "      <td>nonstick cooking spray, for greasing 1 can ref...</td>\n",
       "      <td>Preheat the oven to 425F (220C). Grease a baki...</td>\n",
       "      <td>Here's what you need: nonstick cooking spray, ...</td>\n",
       "      <td>https://tasty.co/recipe/spicy-chicken-bacon-fl...</td>\n",
       "      <td>Spicy Chicken Bacon Flatbread</td>\n",
       "      <td>A3TKUXUTDX6FBF</td>\n",
       "      <td>53</td>\n",
       "      <td>Main course</td>\n",
       "    </tr>\n",
       "  </tbody>\n",
       "</table>\n",
       "</div>"
      ],
      "text/plain": [
       "                                   Input.ingredients  \\\n",
       "0  3 bananas 1 vanilla pod, or 1 teaspoon vanilla...   \n",
       "1  3 bananas 1 vanilla pod, or 1 teaspoon vanilla...   \n",
       "2  3 bananas 1 vanilla pod, or 1 teaspoon vanilla...   \n",
       "3  nonstick cooking spray, for greasing 1 can ref...   \n",
       "4  nonstick cooking spray, for greasing 1 can ref...   \n",
       "\n",
       "                                   Input.preparation  \\\n",
       "0  Cut the bananas into slices and place into a f...   \n",
       "1  Cut the bananas into slices and place into a f...   \n",
       "2  Cut the bananas into slices and place into a f...   \n",
       "3  Preheat the oven to 425F (220C). Grease a baki...   \n",
       "4  Preheat the oven to 425F (220C). Grease a baki...   \n",
       "\n",
       "                                   Input.description  \\\n",
       "0  Here's what you need: bananas, vanilla pod, fu...   \n",
       "1  Here's what you need: bananas, vanilla pod, fu...   \n",
       "2  Here's what you need: bananas, vanilla pod, fu...   \n",
       "3  Here's what you need: nonstick cooking spray, ...   \n",
       "4  Here's what you need: nonstick cooking spray, ...   \n",
       "\n",
       "                                   Input.current_url  \\\n",
       "0  https://tasty.co/recipe/banana-ice-cream-choco...   \n",
       "1  https://tasty.co/recipe/banana-ice-cream-choco...   \n",
       "2  https://tasty.co/recipe/banana-ice-cream-choco...   \n",
       "3  https://tasty.co/recipe/spicy-chicken-bacon-fl...   \n",
       "4  https://tasty.co/recipe/spicy-chicken-bacon-fl...   \n",
       "\n",
       "                 Input.document_url        WorkerId  WorkTimeInSeconds  \\\n",
       "0  Banana Ice Cream Chocolate Bites   AJ9O2ZA0E8UDZ                  7   \n",
       "1  Banana Ice Cream Chocolate Bites  A3FOC1PCYZ0VT1                  6   \n",
       "2  Banana Ice Cream Chocolate Bites   ATUCZB2W7VVI7                  7   \n",
       "3     Spicy Chicken Bacon Flatbread   ALS4ARR5D4BEC                 15   \n",
       "4     Spicy Chicken Bacon Flatbread  A3TKUXUTDX6FBF                 53   \n",
       "\n",
       "    Answer.category.label  \n",
       "0                 Dessert  \n",
       "1                 Dessert  \n",
       "2                 Dessert  \n",
       "3  Appetizer or side dish  \n",
       "4             Main course  "
      ]
     },
     "execution_count": 60,
     "metadata": {},
     "output_type": "execute_result"
    }
   ],
   "source": [
    "ann_result = pd.read_csv(\"mturk_results.csv\")\n",
    "filtered_res = ann_result[[\"Input.ingredients\", \n",
    "                           \"Input.preparation\", \n",
    "                           \"Input.description\", \n",
    "                           \"Input.current_url\",\n",
    "                           \"Input.document_url\",\n",
    "                           \"WorkerId\",\n",
    "                           \"WorkTimeInSeconds\",\n",
    "                           \"Answer.category.label\"]]\n",
    "filtered_res.head(5)"
   ]
  },
  {
   "cell_type": "markdown",
   "metadata": {},
   "source": [
    "### Next, set up a dictionary `annotations` with key as annotator identifier and value as their annotations."
   ]
  },
  {
   "cell_type": "code",
   "execution_count": 27,
   "metadata": {},
   "outputs": [],
   "source": [
    "annotations = dict()\n",
    "for i in range(3):\n",
    "    annotator = filtered_res[np.mod(np.arange(filtered_res.index.size),3) == i]\n",
    "    res_annotator = annotator['Answer.category.label'].tolist()\n",
    "    key = \"C\"+str(i)\n",
    "    annotations[key] = res_annotator"
   ]
  },
  {
   "cell_type": "code",
   "execution_count": 31,
   "metadata": {},
   "outputs": [],
   "source": [
    "titles = filtered_res[np.mod(np.arange(filtered_res.index.size),3) == 0]['Input.document_url'].tolist()"
   ]
  },
  {
   "cell_type": "markdown",
   "metadata": {},
   "source": [
    "### We can do a simple analysis first to check how well annotators agree on different observations"
   ]
  },
  {
   "cell_type": "code",
   "execution_count": 126,
   "metadata": {},
   "outputs": [],
   "source": [
    "answer_triples = []\n",
    "distinct_idx = []\n",
    "two_agree_idx = []\n",
    "all_agree_lst = []\n",
    "all_distinct = 0\n",
    "two_agree = 0\n",
    "all_agree = 0\n",
    "for i in range(800): #total number of annotated examples:\n",
    "    answers_set = set()\n",
    "    answers_lst = []\n",
    "    for key in ['C0','C1','C2']:\n",
    "        answers_set.add(annotations[key][i])\n",
    "        answers_lst.append(annotations[key][i])\n",
    "    if len(answers_set) == 1:\n",
    "        all_agree += 1\n",
    "        all_agree_lst.extend(list(answers_set))\n",
    "    elif len(answers_set) == 2:\n",
    "        two_agree += 1\n",
    "        two_agree_idx.append(i)\n",
    "    elif len(answers_set) == 3:\n",
    "        all_distinct += 1\n",
    "        distinct_idx.append(i)\n",
    "    answer_triples.append(tuple(answers_lst))"
   ]
  },
  {
   "cell_type": "code",
   "execution_count": 117,
   "metadata": {},
   "outputs": [],
   "source": [
    "agreed_list = []\n",
    "for i in two_triples:\n",
    "    count_dict = Counter(list(i))\n",
    "    item = [key for key in count_dict.keys() if count_dict[key] == 2]\n",
    "    agreed_list.append(item[0])"
   ]
  },
  {
   "cell_type": "code",
   "execution_count": 47,
   "metadata": {},
   "outputs": [
    {
     "name": "stdout",
     "output_type": "stream",
     "text": [
      "Number of cases where three annotators provide different answers: 65\n",
      "Number of cases where two annotators reach agreement: 394\n",
      "Number of cases where all three annotators reach agreement: 341\n"
     ]
    }
   ],
   "source": [
    "print(f\"Number of cases where three annotators provide different answers: {all_distinct}\")\n",
    "print(f\"Number of cases where two annotators reach agreement: {two_agree}\")\n",
    "print(f\"Number of cases where all three annotators reach agreement: {all_agree}\")"
   ]
  },
  {
   "cell_type": "markdown",
   "metadata": {},
   "source": [
    "#### Quick Summary\n",
    "From the result above, we can observe that there are only 341 out of 800 cases where all three annotators reach agreements, which is roughly `42.625%`. Therefore, we can expect our scores for the following `AnnotationTask` will probably be around this number as well. There are also `394/800 (49.25%)` cases where two annotators can reach an agreement. This give us a total of `735/800 (91.875%)` cases where we can conclude an answer from the crowd."
   ]
  },
  {
   "cell_type": "markdown",
   "metadata": {},
   "source": [
    "### Check the distribution between categories for the cases that we can conclude an answer from the annotators"
   ]
  },
  {
   "cell_type": "code",
   "execution_count": 118,
   "metadata": {},
   "outputs": [
    {
     "data": {
      "text/plain": [
       "Counter({'Appetizer or side dish': 212,\n",
       "         'Dessert': 214,\n",
       "         'Main course': 285,\n",
       "         'Drinks': 15,\n",
       "         'Other': 9})"
      ]
     },
     "execution_count": 118,
     "metadata": {},
     "output_type": "execute_result"
    }
   ],
   "source": [
    "Counter(agreed_list + all_agree_lst)"
   ]
  },
  {
   "cell_type": "markdown",
   "metadata": {},
   "source": [
    "The distribution between `Appetizer/Side dish`, `Dessert` and `Main course` are even with the rest two categories being outliers. This distribution is concluded based on the crowds' annotations."
   ]
  },
  {
   "cell_type": "markdown",
   "metadata": {},
   "source": [
    "### We can check on the cases where all three annotators show distinct opinions"
   ]
  },
  {
   "cell_type": "code",
   "execution_count": 76,
   "metadata": {},
   "outputs": [],
   "source": [
    "three_triples = [answer_triples[i] for i in distinct_idx] \n",
    "df_three_answers = pd.DataFrame(three_triples, columns=['C0', 'C1', 'C2'])"
   ]
  },
  {
   "cell_type": "code",
   "execution_count": 119,
   "metadata": {},
   "outputs": [
    {
     "data": {
      "text/html": [
       "<div>\n",
       "<style scoped>\n",
       "    .dataframe tbody tr th:only-of-type {\n",
       "        vertical-align: middle;\n",
       "    }\n",
       "\n",
       "    .dataframe tbody tr th {\n",
       "        vertical-align: top;\n",
       "    }\n",
       "\n",
       "    .dataframe thead th {\n",
       "        text-align: right;\n",
       "    }\n",
       "</style>\n",
       "<table border=\"1\" class=\"dataframe\">\n",
       "  <thead>\n",
       "    <tr style=\"text-align: right;\">\n",
       "      <th></th>\n",
       "      <th>index</th>\n",
       "      <th>ReceipeName</th>\n",
       "      <th>C0</th>\n",
       "      <th>C1</th>\n",
       "      <th>C2</th>\n",
       "    </tr>\n",
       "  </thead>\n",
       "  <tbody>\n",
       "    <tr>\n",
       "      <th>0</th>\n",
       "      <td>27</td>\n",
       "      <td>Squid Ink Fettuccine With Black Mussels</td>\n",
       "      <td>Drinks</td>\n",
       "      <td>Appetizer or side dish</td>\n",
       "      <td>Main course</td>\n",
       "    </tr>\n",
       "    <tr>\n",
       "      <th>1</th>\n",
       "      <td>48</td>\n",
       "      <td>Jackfruit Tacos</td>\n",
       "      <td>Dessert</td>\n",
       "      <td>Main course</td>\n",
       "      <td>Other</td>\n",
       "    </tr>\n",
       "    <tr>\n",
       "      <th>2</th>\n",
       "      <td>84</td>\n",
       "      <td>Smashed Cucumber Salad</td>\n",
       "      <td>Appetizer or side dish</td>\n",
       "      <td>Dessert</td>\n",
       "      <td>Main course</td>\n",
       "    </tr>\n",
       "    <tr>\n",
       "      <th>3</th>\n",
       "      <td>96</td>\n",
       "      <td>Cinnamon Bun French Toast</td>\n",
       "      <td>Appetizer or side dish</td>\n",
       "      <td>Dessert</td>\n",
       "      <td>Main course</td>\n",
       "    </tr>\n",
       "    <tr>\n",
       "      <th>4</th>\n",
       "      <td>102</td>\n",
       "      <td>Salted Caramel</td>\n",
       "      <td>Other</td>\n",
       "      <td>Dessert</td>\n",
       "      <td>Appetizer or side dish</td>\n",
       "    </tr>\n",
       "    <tr>\n",
       "      <th>5</th>\n",
       "      <td>111</td>\n",
       "      <td>Buffalo Chicken Dip</td>\n",
       "      <td>Main course</td>\n",
       "      <td>Appetizer or side dish</td>\n",
       "      <td>Other</td>\n",
       "    </tr>\n",
       "    <tr>\n",
       "      <th>6</th>\n",
       "      <td>132</td>\n",
       "      <td>Vegan Sweet Potatoes Au Gratin</td>\n",
       "      <td>Appetizer or side dish</td>\n",
       "      <td>Drinks</td>\n",
       "      <td>Main course</td>\n",
       "    </tr>\n",
       "    <tr>\n",
       "      <th>7</th>\n",
       "      <td>138</td>\n",
       "      <td>Sweet Potato Breakfast Bars</td>\n",
       "      <td>Main course</td>\n",
       "      <td>Dessert</td>\n",
       "      <td>Other</td>\n",
       "    </tr>\n",
       "    <tr>\n",
       "      <th>8</th>\n",
       "      <td>162</td>\n",
       "      <td>Banana Oat Freezer-Prep Smoothie</td>\n",
       "      <td>Dessert</td>\n",
       "      <td>Drinks</td>\n",
       "      <td>Appetizer or side dish</td>\n",
       "    </tr>\n",
       "    <tr>\n",
       "      <th>9</th>\n",
       "      <td>168</td>\n",
       "      <td>Freezer-Prep Breakfast Burritos</td>\n",
       "      <td>Main course</td>\n",
       "      <td>Appetizer or side dish</td>\n",
       "      <td>Other</td>\n",
       "    </tr>\n",
       "  </tbody>\n",
       "</table>\n",
       "</div>"
      ],
      "text/plain": [
       "   index                              ReceipeName                      C0  \\\n",
       "0     27  Squid Ink Fettuccine With Black Mussels                  Drinks   \n",
       "1     48                          Jackfruit Tacos                 Dessert   \n",
       "2     84                   Smashed Cucumber Salad  Appetizer or side dish   \n",
       "3     96                Cinnamon Bun French Toast  Appetizer or side dish   \n",
       "4    102                           Salted Caramel                   Other   \n",
       "5    111                      Buffalo Chicken Dip             Main course   \n",
       "6    132           Vegan Sweet Potatoes Au Gratin  Appetizer or side dish   \n",
       "7    138              Sweet Potato Breakfast Bars             Main course   \n",
       "8    162         Banana Oat Freezer-Prep Smoothie                 Dessert   \n",
       "9    168          Freezer-Prep Breakfast Burritos             Main course   \n",
       "\n",
       "                       C1                      C2  \n",
       "0  Appetizer or side dish             Main course  \n",
       "1             Main course                   Other  \n",
       "2                 Dessert             Main course  \n",
       "3                 Dessert             Main course  \n",
       "4                 Dessert  Appetizer or side dish  \n",
       "5  Appetizer or side dish                   Other  \n",
       "6                  Drinks             Main course  \n",
       "7                 Dessert                   Other  \n",
       "8                  Drinks  Appetizer or side dish  \n",
       "9  Appetizer or side dish                   Other  "
      ]
     },
     "execution_count": 119,
     "metadata": {},
     "output_type": "execute_result"
    }
   ],
   "source": [
    "df_three_receipe = pd.DataFrame()\n",
    "df_three_receipe['ReceipeName'] = filtered_res[np.mod(np.arange(filtered_res.index.size),3) == 0].iloc[distinct_idx,:]['Input.document_url']\n",
    "df_three_receipe = df_three_receipe.reset_index()\n",
    "\n",
    "df_three = pd.concat([df_three_receipe, df_three_answers], axis=1)\n",
    "df_three.head(10)"
   ]
  },
  {
   "cell_type": "markdown",
   "metadata": {},
   "source": [
    "### Now we calculate the interannotator agreement measure"
   ]
  },
  {
   "cell_type": "code",
   "execution_count": 33,
   "metadata": {},
   "outputs": [],
   "source": [
    "#Code adapted from Julian's lecture\n",
    "def convert_to_triples(sentence,annotations_by_annotator):\n",
    "    triple_list = []\n",
    "    for annotator, annotations in annotations_by_annotator.items():\n",
    "        for i in range(len(annotations)):\n",
    "            triple_list.append((annotator,sentence[i],annotations[i]))\n",
    "    return triple_list\n",
    "\n",
    "triples = convert_to_triples(titles, annotations)"
   ]
  },
  {
   "cell_type": "code",
   "execution_count": 34,
   "metadata": {},
   "outputs": [],
   "source": [
    "annotation_task = AnnotationTask(triples)"
   ]
  },
  {
   "cell_type": "markdown",
   "metadata": {},
   "source": [
    "### Choose the measure\n",
    "\n",
    "Since we have many different annotators for each case, we cannot use the measure kappa as it requires a single coder who submit annotations for all cases. Although the distribution is slightly skewed for categories `Drinks` and `Other`, it is pretty even for the rest three categories. We can use either π or Krippendorff’s α. We choose to use π here since we have five categories (`Appetizers/Side dish`, `Main course`, `Dessert`, `Drinks` and `Other`), which doesn't include any scale issue. Therefore Krippendorff’s α is less required and π would be suffice."
   ]
  },
  {
   "cell_type": "code",
   "execution_count": 81,
   "metadata": {},
   "outputs": [
    {
     "data": {
      "text/plain": [
       "0.4231398387080211"
      ]
     },
     "execution_count": 81,
     "metadata": {},
     "output_type": "execute_result"
    }
   ],
   "source": [
    "annotation_task.pi()"
   ]
  },
  {
   "cell_type": "code",
   "execution_count": 39,
   "metadata": {},
   "outputs": [
    {
     "data": {
      "text/plain": [
       "0.42338019710855934"
      ]
     },
     "execution_count": 39,
     "metadata": {},
     "output_type": "execute_result"
    }
   ],
   "source": [
    "annotation_task.alpha() #caculated for reference"
   ]
  },
  {
   "cell_type": "markdown",
   "metadata": {},
   "source": [
    "### Summary"
   ]
  },
  {
   "cell_type": "markdown",
   "metadata": {},
   "source": [
    "Both measures give us similar results, which is as expected as previously mentioned. Krippendorff's alpha compares 'observed' disagreement with the 'expected' disagreement. The observed disagreement is high (57.375%) in our dataset where at least one annotator provide different annotation. The result is around 0.42, below the lowest conceivable limit (0.667) and fall into the range of (0.41, 0.6) as being `moderate`. \n",
    "\n",
    "We can probably improve the score by providing more examples under each categories and write more detailed explanations so that the annotators can reference to. We can also check on cases where at least one annotator diagrees, to see if it is always the same annotator whose answer deviates from others' answers. If that is the case, we can reject the answers of that specific annotator, take our money back and resubmit our annotation task to get other people annotate on our tasks. \n",
    "\n",
    "For example, Below are 5 cases completed by annotator with ID `A770IL76LZ9T6`\n",
    "\n",
    "\t**Input.document_url**\t\t\t\t\t\t**Answer.category.label**\n",
    "\tSquid Ink Fettuccine With Black Mussels\t\tDrinks\n",
    "\tVegan Sweet Potatoes Au Gratin\t\t\t\tDrinks\n",
    "\tFluffy Jiggly Japanese Cheesecake\t\t\tMain course\n",
    "\tAcai And Blueberry Smoothie\t\t\t\t\tDessert\n",
    "\tPancake Breakfast Sandwich\t\t\t\t\tDessert\n",
    "    \n",
    "These five recipes were all annotated wrongly. In this case, we can reject answers from this annotator and let other annotators re-submit annotations."
   ]
  }
 ],
 "metadata": {
  "kernelspec": {
   "display_name": "Python 3",
   "language": "python",
   "name": "python3"
  },
  "language_info": {
   "codemirror_mode": {
    "name": "ipython",
    "version": 3
   },
   "file_extension": ".py",
   "mimetype": "text/x-python",
   "name": "python",
   "nbconvert_exporter": "python",
   "pygments_lexer": "ipython3",
   "version": "3.8.3"
  }
 },
 "nbformat": 4,
 "nbformat_minor": 4
}
